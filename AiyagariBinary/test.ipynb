{
 "cells": [
  {
   "cell_type": "code",
   "execution_count": 1,
   "id": "4866995c",
   "metadata": {},
   "outputs": [],
   "source": [
    "import torch\n",
    "import gym\n",
    "import numpy as np\n",
    "\n",
    "from envs import EconModel, AiyagariEnv\n",
    "from utils import configObj\n",
    "from dpsolver import DPSolver\n",
    "\n",
    "import matplotlib.pyplot as plt"
   ]
  },
  {
   "cell_type": "code",
   "execution_count": 2,
   "id": "350f0634",
   "metadata": {},
   "outputs": [],
   "source": [
    "config_name = 'config'\n",
    "cfg = configObj(config_name,verbose=False)\n",
    "env = AiyagariEnv(cfg)\n",
    "dp = DPSolver(env)"
   ]
  },
  {
   "cell_type": "code",
   "execution_count": 3,
   "id": "424c0ff1",
   "metadata": {},
   "outputs": [],
   "source": [
    "v = dp.result.v.reshape(200, 2).T\n",
    "\n",
    "# fig, ax = plt.subplots(figsize=(20, 15))\n",
    "# plt.plot(env.a_vals, v[0, :], label='z=0.1')\n",
    "# plt.plot(env.a_vals, v[1, :], label='z=1')\n",
    "# plt.legend(fontsize=20);\n",
    "\n",
    "a = dp.result.sigma.reshape(200, 2).T\n",
    "\n",
    "# fig, ax = plt.subplots(figsize=(20, 15))\n",
    "# plt.plot(env.a_vals, env.a_vals[a[0]])\n",
    "# plt.plot(env.a_vals, env.a_vals[a[1]])\n",
    "# plt.plot(env.a_vals, env.a_vals, 'k--')"
   ]
  },
  {
   "cell_type": "code",
   "execution_count": 16,
   "id": "602804cc",
   "metadata": {},
   "outputs": [
    {
     "data": {
      "text/plain": [
       "tensor([[1.0000e-10, 0.0000e+00],\n",
       "        [9.0000e+00, 0.0000e+00],\n",
       "        [1.8000e+01, 0.0000e+00],\n",
       "        [1.0000e-10, 1.0000e+00],\n",
       "        [9.0000e+00, 1.0000e+00],\n",
       "        [1.8000e+01, 1.0000e+00]])"
      ]
     },
     "execution_count": 16,
     "metadata": {},
     "output_type": "execute_result"
    }
   ],
   "source": [
    "state = env.gen_states(sampling=False, B=6)\n",
    "state"
   ]
  },
  {
   "cell_type": "code",
   "execution_count": 17,
   "id": "f23f2f8d",
   "metadata": {},
   "outputs": [],
   "source": [
    "action = state[:, 0:1].clone() / 2"
   ]
  },
  {
   "cell_type": "code",
   "execution_count": 18,
   "id": "f83cbb48",
   "metadata": {},
   "outputs": [],
   "source": [
    "reward, next_state = env.transit(state.clone(), action)"
   ]
  },
  {
   "cell_type": "code",
   "execution_count": 19,
   "id": "ff22c093",
   "metadata": {},
   "outputs": [
    {
     "data": {
      "text/plain": [
       "torch.Size([6, 1])"
      ]
     },
     "execution_count": 19,
     "metadata": {},
     "output_type": "execute_result"
    }
   ],
   "source": [
    "reward.shape"
   ]
  },
  {
   "cell_type": "code",
   "execution_count": 20,
   "id": "0ab898f9",
   "metadata": {},
   "outputs": [
    {
     "data": {
      "text/plain": [
       "torch.Size([6, 2])"
      ]
     },
     "execution_count": 20,
     "metadata": {},
     "output_type": "execute_result"
    }
   ],
   "source": [
    "next_state.shape"
   ]
  },
  {
   "cell_type": "code",
   "execution_count": 21,
   "id": "ed78b93f",
   "metadata": {},
   "outputs": [
    {
     "data": {
      "text/plain": [
       "(tensor([[1.0000e-10, 0.0000e+00],\n",
       "         [9.0000e+00, 0.0000e+00],\n",
       "         [1.8000e+01, 0.0000e+00],\n",
       "         [1.0000e-10, 1.0000e+00],\n",
       "         [9.0000e+00, 1.0000e+00],\n",
       "         [1.8000e+01, 1.0000e+00]]),\n",
       " tensor([[5.0000e-11, 0.0000e+00],\n",
       "         [4.5000e+00, 0.0000e+00],\n",
       "         [9.0000e+00, 0.0000e+00],\n",
       "         [5.0000e-11, 0.0000e+00],\n",
       "         [4.5000e+00, 1.0000e+00],\n",
       "         [9.0000e+00, 1.0000e+00]]))"
      ]
     },
     "execution_count": 21,
     "metadata": {},
     "output_type": "execute_result"
    }
   ],
   "source": [
    "state, next_state"
   ]
  },
  {
   "cell_type": "code",
   "execution_count": 22,
   "id": "808b8cd0",
   "metadata": {},
   "outputs": [
    {
     "data": {
      "text/plain": [
       "tensor([[-2.3026],\n",
       "        [ 1.5454],\n",
       "        [ 2.2279],\n",
       "        [ 0.0000],\n",
       "        [ 1.7210],\n",
       "        [ 2.3204]])"
      ]
     },
     "execution_count": 22,
     "metadata": {},
     "output_type": "execute_result"
    }
   ],
   "source": [
    "reward"
   ]
  },
  {
   "cell_type": "code",
   "execution_count": null,
   "id": "2ddd0ff3",
   "metadata": {},
   "outputs": [],
   "source": []
  }
 ],
 "metadata": {
  "kernelspec": {
   "display_name": "Python 3 (ipykernel)",
   "language": "python",
   "name": "python3"
  },
  "language_info": {
   "codemirror_mode": {
    "name": "ipython",
    "version": 3
   },
   "file_extension": ".py",
   "mimetype": "text/x-python",
   "name": "python",
   "nbconvert_exporter": "python",
   "pygments_lexer": "ipython3",
   "version": "3.8.5"
  }
 },
 "nbformat": 4,
 "nbformat_minor": 5
}
