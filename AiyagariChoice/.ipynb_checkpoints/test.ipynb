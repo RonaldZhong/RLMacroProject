{
 "cells": [
  {
   "cell_type": "code",
   "execution_count": 60,
   "id": "a9e9180a",
   "metadata": {},
   "outputs": [],
   "source": [
    "import torch\n",
    "import torch.nn as nn\n",
    "import numpy as np"
   ]
  },
  {
   "cell_type": "code",
   "execution_count": 144,
   "id": "8090b60e",
   "metadata": {},
   "outputs": [],
   "source": [
    "torch.manual_seed(1)\n",
    "np.random.seed(1)"
   ]
  },
  {
   "cell_type": "code",
   "execution_count": 140,
   "id": "d872dec2",
   "metadata": {},
   "outputs": [],
   "source": [
    "class QNetwork(nn.Module):\n",
    "    def __init__(self, state_dim, action_dim, hidden_dim=4, num_hidden_layer=1, activate='relu', \n",
    "    batch_norm=True, weight_init=False):\n",
    "\n",
    "        super(QNetwork, self).__init__()\n",
    "        \n",
    "        if activate=='relu':\n",
    "            self.activate = nn.ReLU()\n",
    "        if activate=='tanh':\n",
    "            self.activate = nn.Tanh()\n",
    "        if activate == 'leakyrelu':\n",
    "            self.activate = nn.LeakyReLU(0.1)\n",
    "\n",
    "        self.hidden = nn.ModuleList()\n",
    "\n",
    "        for i in range(num_hidden_layer):\n",
    "                if batch_norm==True:\n",
    "                    self.hidden.append(nn.BatchNorm1d(hidden_dim, track_running_stats=False))\n",
    "                self.hidden.append(nn.Linear(hidden_dim, hidden_dim)),\n",
    "                self.hidden.append(self.activate)\n",
    "        if batch_norm==True:\n",
    "                self.hidden.append(nn.BatchNorm1d(hidden_dim, track_running_stats=False))\n",
    "\n",
    "        self.net = nn.Sequential(               \n",
    "            nn.Linear(state_dim+action_dim, hidden_dim), \n",
    "            self.activate, \n",
    "            *self.hidden,\n",
    "            nn.Linear(hidden_dim, 1)\n",
    "        )  \n",
    "        self.net.apply(weights_init_)\n",
    "\n",
    "    def forward(self, state, action):\n",
    "\n",
    "        x = torch.cat([state, action], 1)\n",
    "\n",
    "        return self.net(x)"
   ]
  },
  {
   "cell_type": "code",
   "execution_count": 141,
   "id": "328a2c50",
   "metadata": {},
   "outputs": [],
   "source": [
    "model = QNetwork(state_dim=1, action_dim=1, )"
   ]
  },
  {
   "cell_type": "code",
   "execution_count": 142,
   "id": "f50eab1a",
   "metadata": {},
   "outputs": [],
   "source": [
    "state = torch.rand(5, 1)\n",
    "action = torch.rand(5, 1)\n",
    "x = torch.cat([state, action], 1)"
   ]
  },
  {
   "cell_type": "code",
   "execution_count": 143,
   "id": "6d72ae8d",
   "metadata": {},
   "outputs": [
    {
     "data": {
      "text/plain": [
       "tensor([[ 0.8596,  0.4462],\n",
       "        [ 0.4847,  0.0526],\n",
       "        [-0.5127,  0.1692],\n",
       "        [-0.9337, -0.7226]])"
      ]
     },
     "execution_count": 143,
     "metadata": {},
     "output_type": "execute_result"
    }
   ],
   "source": [
    "model.net[0].weight.data"
   ]
  },
  {
   "cell_type": "code",
   "execution_count": null,
   "id": "00bf9c3b",
   "metadata": {},
   "outputs": [],
   "source": []
  },
  {
   "cell_type": "code",
   "execution_count": null,
   "id": "65c3f914",
   "metadata": {},
   "outputs": [],
   "source": []
  }
 ],
 "metadata": {
  "kernelspec": {
   "display_name": "Python 3 (ipykernel)",
   "language": "python",
   "name": "python3"
  },
  "language_info": {
   "codemirror_mode": {
    "name": "ipython",
    "version": 3
   },
   "file_extension": ".py",
   "mimetype": "text/x-python",
   "name": "python",
   "nbconvert_exporter": "python",
   "pygments_lexer": "ipython3",
   "version": "3.8.5"
  }
 },
 "nbformat": 4,
 "nbformat_minor": 5
}
