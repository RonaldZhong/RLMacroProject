{
 "cells": [
  {
   "cell_type": "markdown",
   "metadata": {},
   "source": [
    "# Algorithm:\n",
    "\n",
    "1. Solved Value Function Evaluation problem in Optimal Saving(Cake Eat) problem.\n",
    "\n",
    "2. Wrote Policy Improvement Algorithm and the overall training combined with Value Function Evaluation. Some problems arised. Wrote test functions and plots to do re-examination. Have some ideas to improve it.\n",
    "\n",
    "# Economic Model:\n",
    "\n",
    "1. Writing the overall Environment to do everything (provide neated utility call functions to do both DP training and RL training). \n",
    "\n",
    "2. Try to include 4 cases from easiest to hardest: no shock, shock + no choice, shock + choice, 2 shock + choice"
   ]
  },
  {
   "cell_type": "code",
   "execution_count": null,
   "metadata": {},
   "outputs": [],
   "source": []
  }
 ],
 "metadata": {
  "kernelspec": {
   "display_name": "Python 3 (ipykernel)",
   "language": "python",
   "name": "python3"
  },
  "language_info": {
   "codemirror_mode": {
    "name": "ipython",
    "version": 3
   },
   "file_extension": ".py",
   "mimetype": "text/x-python",
   "name": "python",
   "nbconvert_exporter": "python",
   "pygments_lexer": "ipython3",
   "version": "3.8.5"
  }
 },
 "nbformat": 4,
 "nbformat_minor": 2
}
