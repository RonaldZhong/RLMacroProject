{
 "cells": [
  {
   "cell_type": "markdown",
   "id": "a0803de2",
   "metadata": {},
   "source": [
    "## This week:\n",
    "\n",
    "1. Write a Aiyagari model with binary shock model (can generalize to zero shock / multinomial discrete shock by adjusting the transition matrix)\n",
    "\n",
    "2. We don't necessarily need to do just one-step Bellman update:\n",
    "\n",
    "$$Q(s, \\sigma(s)) \\leftarrow R_1 + \\beta Q(s_1, \\sigma(s_1))$$\n",
    "\n",
    "    The drawback here is that the $Q(s', \\sigma(s'))$ is also approximated by NN thus bias at the beginning. Given that the cost to do the state transition (interact with the envrionment) is low, we can do n-step to increase the learning efficiency in one-iteration update:\n",
    "    \n",
    "$$Q(s, \\sigma(s)) \\leftarrow \\sum_i^n \\beta^i R_i + \\beta^n Q(s_n, \\sigma(s_n))$$\n",
    "\n",
    "    This is tested on the Optimal Saving model.\n",
    "    \n",
    "3. Add target actor and target critic in the training to stablize."
   ]
  },
  {
   "cell_type": "markdown",
   "id": "12546306",
   "metadata": {},
   "source": [
    "# Question:\n",
    "\n",
    "1. Solve the DP problem when shock is closed to continuous\n",
    "\n",
    "2. Efficient sampling"
   ]
  },
  {
   "cell_type": "code",
   "execution_count": null,
   "id": "c0cb4812",
   "metadata": {},
   "outputs": [],
   "source": []
  }
 ],
 "metadata": {
  "kernelspec": {
   "display_name": "Python 3 (ipykernel)",
   "language": "python",
   "name": "python3"
  },
  "language_info": {
   "codemirror_mode": {
    "name": "ipython",
    "version": 3
   },
   "file_extension": ".py",
   "mimetype": "text/x-python",
   "name": "python",
   "nbconvert_exporter": "python",
   "pygments_lexer": "ipython3",
   "version": "3.8.5"
  }
 },
 "nbformat": 4,
 "nbformat_minor": 5
}
